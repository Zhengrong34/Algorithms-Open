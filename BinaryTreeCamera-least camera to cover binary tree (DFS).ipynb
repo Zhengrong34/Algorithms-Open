{
 "cells": [
  {
   "cell_type": "code",
   "execution_count": 121,
   "metadata": {},
   "outputs": [
    {
     "name": "stdout",
     "output_type": "stream",
     "text": [
      "1\n",
      "2\n"
     ]
    },
    {
     "data": {
      "text/plain": [
       "2"
      ]
     },
     "execution_count": 121,
     "metadata": {},
     "output_type": "execute_result"
    }
   ],
   "source": []
  },
  {
   "cell_type": "code",
   "execution_count": 143,
   "metadata": {},
   "outputs": [],
   "source": [
    "class node:\n",
    "    def __init__(self):\n",
    "        self.level = 0\n",
    "        self.val = 0\n",
    "        self.left = None\n",
    "        self.right = None\n",
    "    \n",
    "    def addLeft(self):\n",
    "        if not self.left:\n",
    "            self.left = node()\n",
    "            self.left.level = self.level+1\n",
    "            return self.left\n",
    "        \n",
    "    def addRight(self):\n",
    "        if not self.right:\n",
    "            self.right=node()\n",
    "            self.right.level=self.level+1\n",
    "            return self.right"
   ]
  },
  {
   "cell_type": "code",
   "execution_count": 153,
   "metadata": {},
   "outputs": [],
   "source": [
    "\n",
    "sum = 0\n",
    "def dfs(node):\n",
    "    global sum\n",
    "    #print(sum)\n",
    "    if not node:\n",
    "        # happens as long as I dont have a child\n",
    "        # if L have but R dont still apply\n",
    "        return 1\n",
    "    l=dfs(node.left)\n",
    "    r=dfs(node.right)\n",
    "    if l==0 or r==0:\n",
    "        # my child covers me and its children\n",
    "        # mark as 2\n",
    "        # deploy camera\n",
    "        # WHEN EVERY CHILD IS NOT COVER YOU MUST COVER\n",
    "        sum+=1\n",
    "        return 2\n",
    "    elif l==2 or r==2:\n",
    "        # 1 is parent of 2\n",
    "        # or 1 is empty\n",
    "        # already covered by camera\n",
    "        return 1\n",
    "    else:\n",
    "        # mark node with parent and a child\n",
    "        # when progress up, parent will be mark with 2\n",
    "        # node is the end:\n",
    "        # when progress up must have a camera so mark 0\n",
    "        # ** not covered **\n",
    "        # NOT COVERED BY ANYTHING HERE\n",
    "        return 0"
   ]
  },
  {
   "cell_type": "code",
   "execution_count": 149,
   "metadata": {},
   "outputs": [],
   "source": [
    "root = node()\n",
    "l1=root.addLeft()\n",
    "l1l=l1.addLeft()\n",
    "l1R=l1.addRight()\n",
    "l2l=l1l.addLeft()"
   ]
  },
  {
   "cell_type": "code",
   "execution_count": 151,
   "metadata": {},
   "outputs": [],
   "source": [
    "# case 1"
   ]
  },
  {
   "cell_type": "markdown",
   "metadata": {},
   "source": [
    "```\n",
    "                         root\n",
    "                         /\n",
    "                       node\n",
    "                      /    \\\n",
    "                   node    node\n",
    "                   /\n",
    "   sum+1       node(0)\n",
    "               /  \\\n",
    "              (1) (1)\n",
    "\n",
    "                         root\n",
    "                         /\n",
    "                       node\n",
    "                      /    \\\n",
    "                   node(2)  node\n",
    "                   /   \\\n",
    "               node(0) (1)\n",
    "               /  \\\n",
    "              (1) (1)\n",
    "\n",
    "\n",
    "                         root \n",
    "                         /  \n",
    "                       node\n",
    "                      /    \\\n",
    "                   node(2)  node(0)\n",
    "                   /   \\     / \\\n",
    "               node(0) (1) (1)  (1)\n",
    "               /  \\\n",
    "              (1) (1)\n",
    "\n",
    "\n",
    "                         root (1)\n",
    "                         /   \\\n",
    " sum+1                 node(2)(1)\n",
    "                      /    \\\n",
    "                   node(2)  node(0)\n",
    "                   /   \\     / \\\n",
    "               node(0) (1) (1)  (1)\n",
    "               /  \\\n",
    "              (1) (1)\n",
    "\n",
    "\n",
    "\n",
    "```"
   ]
  },
  {
   "cell_type": "code",
   "execution_count": 157,
   "metadata": {},
   "outputs": [
    {
     "data": {
      "text/plain": [
       "2"
      ]
     },
     "execution_count": 157,
     "metadata": {},
     "output_type": "execute_result"
    }
   ],
   "source": [
    "#if my root is leaf then root will return 0\n",
    "sum=0\n",
    "if dfs(root)==0:\n",
    "    sum+=1\n",
    "    print('outside dfs: ', sum)\n",
    "sum #2"
   ]
  },
  {
   "cell_type": "code",
   "execution_count": null,
   "metadata": {},
   "outputs": [],
   "source": [
    "# case 2"
   ]
  },
  {
   "cell_type": "code",
   "execution_count": 154,
   "metadata": {},
   "outputs": [],
   "source": [
    "root = node()\n",
    "l=root.addLeft()\n",
    "r=root.addRight()\n",
    "ll=l.addLeft()\n",
    "lr=l.addRight()\n",
    "l11=l1.addLeft()"
   ]
  },
  {
   "cell_type": "markdown",
   "metadata": {},
   "source": [
    "```\n",
    "                       root\n",
    "                      /    \\\n",
    "    sum+1         node(2)  node\n",
    "                   /  \\\n",
    "              node(0) node(0)\n",
    "               /  \\     / \\\n",
    "              (1) (1) (1) (1)\n",
    "              \n",
    "              \n",
    "    sum+1            root(2)\n",
    "                      /  \\\n",
    "    sum+1         node(2) node(0)\n",
    "                   /  \\\n",
    "              node(0) node(0)\n",
    "               /  \\     / \\\n",
    "              (1) (1) (1) (1)\n",
    "                           \n",
    "              \n",
    "              \n",
    "              \n",
    "              \n",
    "              \n",
    "```"
   ]
  },
  {
   "cell_type": "code",
   "execution_count": 158,
   "metadata": {},
   "outputs": [
    {
     "data": {
      "text/plain": [
       "2"
      ]
     },
     "execution_count": 158,
     "metadata": {},
     "output_type": "execute_result"
    }
   ],
   "source": [
    "sum=0\n",
    "if dfs(root)==0:\n",
    "    sum+=1\n",
    "    print('outside dfs: ', sum)\n",
    "sum #2"
   ]
  },
  {
   "cell_type": "code",
   "execution_count": null,
   "metadata": {},
   "outputs": [],
   "source": []
  }
 ],
 "metadata": {
  "kernelspec": {
   "display_name": "Python 3",
   "language": "python",
   "name": "python3"
  },
  "language_info": {
   "codemirror_mode": {
    "name": "ipython",
    "version": 3
   },
   "file_extension": ".py",
   "mimetype": "text/x-python",
   "name": "python",
   "nbconvert_exporter": "python",
   "pygments_lexer": "ipython3",
   "version": "3.6.8"
  }
 },
 "nbformat": 4,
 "nbformat_minor": 2
}
